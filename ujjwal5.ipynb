{
  "metadata": {
    "kernelspec": {
      "name": "python",
      "display_name": "Python (Pyodide)",
      "language": "python"
    },
    "language_info": {
      "name": ""
    }
  },
  "nbformat_minor": 4,
  "nbformat": 4,
  "cells": [
    {
      "cell_type": "code",
      "source": "import os\nimport json\n\nTODO_FILE = 'todo_list.json'\n\ndef load_todo_list():\n    \"\"\"Load the to-do list from a file.\"\"\"\n    if os.path.exists(TODO_FILE):\n        with open(TODO_FILE, 'r') as file:\n            return json.load(file)\n    return []\n",
      "metadata": {
        "trusted": true
      },
      "outputs": [],
      "execution_count": null
    }
  ]
}